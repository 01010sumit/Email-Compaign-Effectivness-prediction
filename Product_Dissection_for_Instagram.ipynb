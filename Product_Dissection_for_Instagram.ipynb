{
  "nbformat": 4,
  "nbformat_minor": 0,
  "metadata": {
    "colab": {
      "provenance": [],
      "include_colab_link": true
    },
    "kernelspec": {
      "name": "python3",
      "display_name": "Python 3"
    },
    "language_info": {
      "name": "python"
    }
  },
  "cells": [
    {
      "cell_type": "markdown",
      "metadata": {
        "id": "view-in-github",
        "colab_type": "text"
      },
      "source": [
        "<a href=\"https://colab.research.google.com/github/01010sumit/Email-Compaign-Effectivness-prediction/blob/main/Product_Dissection_for_Instagram.ipynb\" target=\"_parent\"><img src=\"https://colab.research.google.com/assets/colab-badge.svg\" alt=\"Open In Colab\"/></a>"
      ]
    },
    {
      "cell_type": "markdown",
      "source": [
        "#Product Dissection for Instagram"
      ],
      "metadata": {
        "id": "0i5qL8HHT4Mq"
      }
    },
    {
      "cell_type": "markdown",
      "source": [
        "Name-Sumit Kumar\n"
      ],
      "metadata": {
        "id": "HbJ7UGf7T75w"
      }
    },
    {
      "cell_type": "markdown",
      "source": [
        "#**GitHub Link-**"
      ],
      "metadata": {
        "id": "BJTk6Ho6TrY_"
      }
    },
    {
      "cell_type": "markdown",
      "source": [
        "https://github.com/01010sumit/Product-Dissection-for-Instagram.git"
      ],
      "metadata": {
        "id": "xVryChOMTpNK"
      }
    },
    {
      "cell_type": "code",
      "source": [
        "import sqlite3\n",
        "\n",
        "conn = sqlite3.connect('instagram.db')\n",
        "\n",
        "c = conn.cursor()"
      ],
      "metadata": {
        "id": "M1yZWGzLCa56"
      },
      "execution_count": null,
      "outputs": []
    },
    {
      "cell_type": "code",
      "source": [
        "# Create Users table\n",
        "c.execute('''\n",
        "          CREATE TABLE Users\n",
        "          (UserID integer PRIMARY KEY,\n",
        "           Username text,\n",
        "           Email text,\n",
        "           FullName text,\n",
        "           Bio text,\n",
        "           JoinedDate text)\n",
        "          ''')\n"
      ],
      "metadata": {
        "colab": {
          "base_uri": "https://localhost:8080/"
        },
        "id": "11mvDmdqP-3h",
        "outputId": "317604d8-4c17-4ca5-af83-aabe4d98c6e9"
      },
      "execution_count": null,
      "outputs": [
        {
          "output_type": "execute_result",
          "data": {
            "text/plain": [
              "<sqlite3.Cursor at 0x7e8691d99540>"
            ]
          },
          "metadata": {},
          "execution_count": 2
        }
      ]
    },
    {
      "cell_type": "markdown",
      "source": [
        "The Instagram schema defines relationships through the use of foreign keys, which connect distinct tables. Let's go over each relationship using the SQLite schema that was provided:\n",
        "\n",
        "##Users make posts:\n",
        "\n",
        "#Relationship:\n",
        " Each user can make several entries.\n",
        "#Foreign Key:\n",
        "The UserID column in the posts table is a foreign key that references the UserID column in the users table.\n",
        "Meaning: This relationship ensures that each post is associated with a genuine user. Users, defined by their UserID, can create multiple posts.\n"
      ],
      "metadata": {
        "id": "DrPPxnnqN7yB"
      }
    },
    {
      "cell_type": "code",
      "source": [
        "# Create Posts table\n",
        "c.execute('''\n",
        "          CREATE TABLE Posts\n",
        "          (PostID integer PRIMARY KEY,\n",
        "           UserID integer,\n",
        "           ImageURL text,\n",
        "           Caption text,\n",
        "           PostedDate text,\n",
        "           FOREIGN KEY(UserID) REFERENCES Users(UserID))\n",
        "          ''')"
      ],
      "metadata": {
        "colab": {
          "base_uri": "https://localhost:8080/"
        },
        "id": "nerBolLsOi0R",
        "outputId": "47136b0d-d840-4fd6-dd5b-40e93dcfbd85"
      },
      "execution_count": null,
      "outputs": [
        {
          "output_type": "execute_result",
          "data": {
            "text/plain": [
              "<sqlite3.Cursor at 0x7e8691d99540>"
            ]
          },
          "metadata": {},
          "execution_count": 3
        }
      ]
    },
    {
      "cell_type": "markdown",
      "source": [
        "# Users leave comments on posts:\n",
        "\n",
        "#Relationship:\n",
        "Users can comment on many posts, and each post can have multiple comments.\n",
        "#Foreign Keys:\n",
        "\n",
        "The PostID column in the comments table is a foreign key that references the PostID column in the posts table.\n",
        "\n",
        "\n",
        "The UserID column in the comments table is a foreign key that refers to the UserID column in the users table.\n",
        "\n",
        "\n",
        "Meaning: This relationship ensures that each remark is associated with a genuine post and a valid user. Users can comment on numerous posts, and each post can have several comments.\n",
        "\n"
      ],
      "metadata": {
        "id": "HqhogyKhOnjT"
      }
    },
    {
      "cell_type": "code",
      "source": [
        "# Create Comments table\n",
        "c.execute('''\n",
        "          CREATE TABLE Comments\n",
        "          (CommentID integer PRIMARY KEY,\n",
        "           PostID integer,\n",
        "           UserID integer,\n",
        "           Text text,\n",
        "           CommentDate text,\n",
        "           FOREIGN KEY(PostID) REFERENCES Posts(PostID),\n",
        "           FOREIGN KEY(UserID) REFERENCES Users(UserID))\n",
        "          ''')\n"
      ],
      "metadata": {
        "colab": {
          "base_uri": "https://localhost:8080/"
        },
        "id": "Mw9Svcm_OKPj",
        "outputId": "e62321b7-5946-445f-c985-e55fd0dc046f"
      },
      "execution_count": null,
      "outputs": [
        {
          "output_type": "execute_result",
          "data": {
            "text/plain": [
              "<sqlite3.Cursor at 0x7e8691d99540>"
            ]
          },
          "metadata": {},
          "execution_count": 4
        }
      ]
    },
    {
      "cell_type": "markdown",
      "source": [
        "# Posts that users like:\n",
        "\n",
        "#Relationship:\n",
        "Users can like numerous posts, and each post can have several likes.\n",
        "#Foreign Keys:\n",
        "The PostID column in the likes table is a foreign key that references the PostID column in the posts table.\n",
        "\n",
        "The UserID column in the likes table is a foreign key that refers to the UserID column in the users table.\n",
        "\n",
        "#Meaning:\n",
        "This relationship ensures that every like is associated with a valid post and a valid user.\n",
        "Users can like numerous posts, and each post can have multiple likes.\n",
        "\n"
      ],
      "metadata": {
        "id": "NGARwipJPBPJ"
      }
    },
    {
      "cell_type": "code",
      "source": [
        "\n",
        "# Create Likes table\n",
        "c.execute('''\n",
        "          CREATE TABLE Likes\n",
        "          (LikeID integer PRIMARY KEY,\n",
        "           PostID integer,\n",
        "           UserID integer,\n",
        "           LikedDate text,\n",
        "           FOREIGN KEY(PostID) REFERENCES Posts(PostID),\n",
        "           FOREIGN KEY(UserID) REFERENCES Users(UserID))\n",
        "          ''')"
      ],
      "metadata": {
        "colab": {
          "base_uri": "https://localhost:8080/"
        },
        "id": "wfONqP0HPJsu",
        "outputId": "6feb4f34-b8de-4d61-cfa2-bbf81c49b8ae"
      },
      "execution_count": null,
      "outputs": [
        {
          "output_type": "execute_result",
          "data": {
            "text/plain": [
              "<sqlite3.Cursor at 0x7e8691d99540>"
            ]
          },
          "metadata": {},
          "execution_count": 5
        }
      ]
    },
    {
      "cell_type": "markdown",
      "source": [
        "#Users who follow others:\n",
        "\n",
        "Users can follow and be followed by multiple people.\n",
        "#Keys from other countries:\n",
        "The ForeignKey column in the followers table refers to the UserID column in the users table.\n",
        "\n",
        "The FollowerUserID column in the followers table is a foreign key to the UserID column in the users table.\n",
        "\n",
        "This relationship assures that both the following and following users are valid users.\n",
        "\n",
        "Users can follow numerous people, and each person can follow multiple people.\n"
      ],
      "metadata": {
        "id": "MltOOiSpPYI6"
      }
    },
    {
      "cell_type": "code",
      "source": [
        "\n",
        "# Create Follows table\n",
        "c.execute('''\n",
        "          CREATE TABLE Follows\n",
        "          (FollowID integer PRIMARY KEY,\n",
        "           FollowingUserID integer,\n",
        "           FollowerUserID integer,\n",
        "           FollowDate text,\n",
        "           FOREIGN KEY(FollowingUserID) REFERENCES Users(UserID),\n",
        "           FOREIGN KEY(FollowerUserID) REFERENCES Users(UserID))\n",
        "         ''')\n"
      ],
      "metadata": {
        "colab": {
          "base_uri": "https://localhost:8080/"
        },
        "id": "6QNNdFLSPfSR",
        "outputId": "4cbd5eae-caba-4165-836c-8ab44710d022"
      },
      "execution_count": null,
      "outputs": [
        {
          "output_type": "execute_result",
          "data": {
            "text/plain": [
              "<sqlite3.Cursor at 0x7e8691d99540>"
            ]
          },
          "metadata": {},
          "execution_count": 6
        }
      ]
    },
    {
      "cell_type": "markdown",
      "source": [
        "#Hashtags are used in posts:\n",
        "\n",
        "#Relationship:\n",
        "Each hashtag can be associated with many posts, and each post can have several hashtags.\n",
        "#Keys from Other Countries:\n",
        "\n",
        "The PostID column in the post_hashtags table is a foreign key that refers to the PostID column in the posts table.\n",
        "\n",
        "The post_hashtags table's HashtagID column is a foreign key that refers to the hashtags table's HashtagID column.\n",
        "#Meaning:\n",
        "This relationship maintains the validity of all post-hashtag associations.\n",
        "many hashtags can be associated with a single post, and each hashtag can be associated with many posts.\n",
        "\n",
        "These foreign key relationships provide data integrity and enforce linkages between various entities in the Instagram database model.\n"
      ],
      "metadata": {
        "id": "K4fmflfUPpTJ"
      }
    },
    {
      "cell_type": "code",
      "source": [
        "# Create Hashtags table\n",
        "c.execute('''\n",
        "         CREATE TABLE Hashtags\n",
        "         (HashtagID integer PRIMARY KEY,\n",
        "          Tag text)\n",
        "         ''')"
      ],
      "metadata": {
        "colab": {
          "base_uri": "https://localhost:8080/"
        },
        "id": "qY86Fi5LP2W7",
        "outputId": "55ef5e29-cb90-427b-bc99-e0a72c0d57e7"
      },
      "execution_count": null,
      "outputs": [
        {
          "output_type": "execute_result",
          "data": {
            "text/plain": [
              "<sqlite3.Cursor at 0x7e8691d99540>"
            ]
          },
          "metadata": {},
          "execution_count": 7
        }
      ]
    },
    {
      "cell_type": "code",
      "source": [
        "\n",
        "# Create PostHashtags table\n",
        "c.execute('''\n",
        "         CREATE TABLE PostHashtags\n",
        "         (PostHashtagID integer PRIMARY KEY,\n",
        "          PostID integer,\n",
        "          HashtagID integer,\n",
        "          FOREIGN KEY(PostID) REFERENCES Posts(PostID),\n",
        "          FOREIGN KEY(HashtagID) REFERENCES Hashtags(HashtagID))\n",
        "         ''')\n",
        "\n",
        "conn.commit()\n",
        "conn.close()"
      ],
      "metadata": {
        "id": "14ORvthdQgUK"
      },
      "execution_count": null,
      "outputs": []
    }
  ]
}